{
 "cells": [
  {
   "cell_type": "markdown",
   "metadata": {},
   "source": [
    "# <img style=\"float: left; padding-right: 10px; width: 45px\" src=\"https://raw.githubusercontent.com/Harvard-IACS/2018-CS109A/master/content/styles/iacs.png\"> CS109A Introduction to Data Science: \n",
    "\n",
    "## Homework 5: Logistic Regression, High Dimensionality and PCA\n",
    "\n",
    "\n",
    "**Harvard University**<br/>\n",
    "**Fall 2018**<br/>\n",
    "**Instructors**: Pavlos Protopapas, Kevin Rader\n",
    "\n",
    "<hr style=\"height:2pt\">\n",
    "\n"
   ]
  },
  {
   "cell_type": "code",
   "execution_count": 217,
   "metadata": {},
   "outputs": [
    {
     "data": {
      "text/html": [
       "<style>\n",
       "h1 { \n",
       "    padding-top: 25px;\n",
       "    padding-bottom: 25px;\n",
       "    text-align: left; \n",
       "    padding-left: 10px;\n",
       "    background-color: #DDDDDD; \n",
       "    color: black;\n",
       "}\n",
       "h2 { \n",
       "    padding-top: 10px;\n",
       "    padding-bottom: 10px;\n",
       "    text-align: left; \n",
       "    padding-left: 5px;\n",
       "    background-color: #EEEEEE; \n",
       "    color: black;\n",
       "}\n",
       "\n",
       "div.exercise {\n",
       "\tbackground-color: #ffcccc;\n",
       "\tborder-color: #E9967A; \t\n",
       "\tborder-left: 5px solid #800080; \n",
       "\tpadding: 0.5em;\n",
       "}\n",
       "div.theme {\n",
       "\tbackground-color: #DDDDDD;\n",
       "\tborder-color: #E9967A; \t\n",
       "\tborder-left: 5px solid #800080; \n",
       "\tpadding: 0.5em;\n",
       "\tfont-size: 18pt;\n",
       "}\n",
       "p.q1 { \n",
       "    padding-top: 5px;\n",
       "    padding-bottom: 5px;\n",
       "    text-align: left; \n",
       "    padding-left: 5px;\n",
       "    background-color: #EEEEEE; \n",
       "    color: black;\n",
       "}\n",
       "header {\n",
       "   padding-top: 35px;\n",
       "    padding-bottom: 35px;\n",
       "    text-align: left; \n",
       "    padding-left: 10px;\n",
       "    background-color: #DDDDDD; \n",
       "    color: black;\n",
       "}\n",
       "</style>\n",
       "\n"
      ],
      "text/plain": [
       "<IPython.core.display.HTML object>"
      ]
     },
     "execution_count": 217,
     "metadata": {},
     "output_type": "execute_result"
    }
   ],
   "source": [
    "#RUN THIS CELL \n",
    "import requests\n",
    "from IPython.core.display import HTML\n",
    "styles = requests.get(\"https://raw.githubusercontent.com/Harvard-IACS/2018-CS109A/master/content/styles/cs109.css\").text\n",
    "HTML(styles)"
   ]
  },
  {
   "cell_type": "markdown",
   "metadata": {},
   "source": [
    "### INSTRUCTIONS\n",
    "\n",
    "- To submit your assignment follow the instructions given in canvas  https://canvas.harvard.edu/courses/42693/pages/homework-policies-and-submission-instructions.\n",
    "- Restart the kernel and run the whole notebook again before you submit. \n",
    "- If you submit individually and you have worked with someone, please include the name of your [one] partner below. \n",
    "- As much as possible, try and stick to the hints and functions we import at the top of the homework, as those are the ideas and tools the class supports and is aiming to teach. And if a problem specifies a particular library you're required to use that library, and possibly others from the import list."
   ]
  },
  {
   "cell_type": "markdown",
   "metadata": {},
   "source": [
    "Names of people you have worked with goes here: "
   ]
  },
  {
   "cell_type": "markdown",
   "metadata": {},
   "source": [
    "<hr style=\"height:2pt\">"
   ]
  },
  {
   "cell_type": "code",
   "execution_count": 218,
   "metadata": {},
   "outputs": [],
   "source": [
    "import numpy as np\n",
    "import pandas as pd\n",
    "\n",
    "import statsmodels.api as sm\n",
    "from statsmodels.api import OLS\n",
    "\n",
    "from sklearn.decomposition import PCA\n",
    "from sklearn.linear_model import LogisticRegression\n",
    "from sklearn.linear_model import LogisticRegressionCV\n",
    "from sklearn.discriminant_analysis import LinearDiscriminantAnalysis\n",
    "from sklearn.discriminant_analysis import QuadraticDiscriminantAnalysis\n",
    "from sklearn.preprocessing import PolynomialFeatures\n",
    "from sklearn.neighbors import KNeighborsClassifier\n",
    "from sklearn.model_selection import cross_val_score\n",
    "from sklearn.metrics import accuracy_score\n",
    "from sklearn.model_selection import KFold\n",
    "from sklearn.preprocessing import MinMaxScaler\n",
    "\n",
    "import math\n",
    "from scipy.special import gamma\n",
    "\n",
    "import matplotlib\n",
    "import matplotlib.pyplot as plt\n",
    "%matplotlib inline\n",
    "\n",
    "import seaborn as sns\n",
    "sns.set()\n",
    "\n",
    "from IPython.display import display\n"
   ]
  },
  {
   "cell_type": "markdown",
   "metadata": {},
   "source": [
    "<div class='theme'> Cancer Classification from Gene Expressions </div>\n",
    "\n",
    "In this problem, we will build a classification model to distinguish between two related classes of cancer, acute lymphoblastic leukemia (ALL) and acute myeloid leukemia (AML), using gene expression measurements. The data set is provided in the file `data/dataset_hw5_1.csv`. Each row in this file corresponds to a tumor tissue sample from a patient with one of the two forms of Leukemia. The first column contains the cancer type, with 0 indicating the ALL class and 1 indicating the AML class. Columns 2-7130 contain expression levels of 7129 genes recorded from each tissue sample. \n",
    "\n",
    "In the following questions, we will use linear and logistic regression to build classification models for this data set. We will also use Principal Components Analysis (PCA) to reduce its dimensions. \n",
    "\n"
   ]
  },
  {
   "cell_type": "markdown",
   "metadata": {},
   "source": [
    "<div class='exercise'><b> Question 1 [25 pts]: Data Exploration </b></div>\n",
    "\n",
    "First step is to  split  the observations into an approximate 50-50 train-test split.  Below is some code to do this for you (we want to make sure everyone has the same splits).\n",
    "\n",
    "**1.1** Take a peek at your training set: you should notice the severe differences in the measurements from one gene to the next (some are negative, some hover around zero, and some are well into the thousands).  To account for these differences in scale and variability, normalize each predictor to vary between 0 and 1.\n",
    "\n",
    "**1.2** Notice that the resulting training set contains more predictors than observations. Do you foresee a problem in fitting a classification model to such a data set?  Explain in 3 or fewer sentences.\n",
    "\n",
    "**1.3** Let's explore a few of the genes and see how well they discriminate between cancer classes. Create a single figure with four subplots arranged in a 2x2 grid. Consider the following four genes: `D29963_at`, `M23161_at`, `hum_alu_at`, and `AFFX-PheX-5_at`. For each gene overlay two histograms of the gene expression values on one of the subplots, one histogram for each cancer type. Does it appear that any of these genes discriminate between the two classes well? How are you able to tell?\n",
    "\n",
    "**1.4** Since our data has dimensions that are not easily visualizable, we want to reduce the dimensionality of the data to make it easier to visualize. Using PCA, find the top two principal components for the gene expression data. Generate a scatter plot using these principal components, highlighting the two cancer types in different colors and different markers ('x' vs 'o', for example). How well do the top two principal components discriminate between the two classes? How much of the variance within the predictor set do these two principal components explain? \n",
    "\n",
    "**1.5** Plot the cumulative variance explained in the feature set..."
   ]
  },
  {
   "cell_type": "markdown",
   "metadata": {},
   "source": [
    "#### Answers:\n",
    "First step is to split the observations into an approximate 50-50 train-test split. Below is some code to do this for you (we want to make sure everyone has the same splits)."
   ]
  },
  {
   "cell_type": "code",
   "execution_count": 284,
   "metadata": {},
   "outputs": [],
   "source": [
    "np.random.seed(9002)\n",
    "df = pd.read_csv('data/dataset_hw5_1.csv')\n",
    "msk = np.random.rand(len(df)) < 0.5\n",
    "data_train = df[msk]\n",
    "data_test = df[~msk]"
   ]
  },
  {
   "cell_type": "markdown",
   "metadata": {},
   "source": [
    "**1.1:** Take a peek at your training set..."
   ]
  },
  {
   "cell_type": "code",
   "execution_count": 285,
   "metadata": {},
   "outputs": [
    {
     "data": {
      "text/html": [
       "<div>\n",
       "<style scoped>\n",
       "    .dataframe tbody tr th:only-of-type {\n",
       "        vertical-align: middle;\n",
       "    }\n",
       "\n",
       "    .dataframe tbody tr th {\n",
       "        vertical-align: top;\n",
       "    }\n",
       "\n",
       "    .dataframe thead th {\n",
       "        text-align: right;\n",
       "    }\n",
       "</style>\n",
       "<table border=\"1\" class=\"dataframe\">\n",
       "  <thead>\n",
       "    <tr style=\"text-align: right;\">\n",
       "      <th></th>\n",
       "      <th>Cancer_type</th>\n",
       "      <th>AFFX-BioB-5_at</th>\n",
       "      <th>AFFX-BioB-M_at</th>\n",
       "      <th>AFFX-BioB-3_at</th>\n",
       "      <th>AFFX-BioC-5_at</th>\n",
       "      <th>AFFX-BioC-3_at</th>\n",
       "      <th>AFFX-BioDn-5_at</th>\n",
       "      <th>AFFX-BioDn-3_at</th>\n",
       "      <th>AFFX-CreX-5_at</th>\n",
       "      <th>AFFX-CreX-3_at</th>\n",
       "      <th>...</th>\n",
       "      <th>U48730_at</th>\n",
       "      <th>U58516_at</th>\n",
       "      <th>U73738_at</th>\n",
       "      <th>X06956_at</th>\n",
       "      <th>X16699_at</th>\n",
       "      <th>X83863_at</th>\n",
       "      <th>Z17240_at</th>\n",
       "      <th>L49218_f_at</th>\n",
       "      <th>M71243_f_at</th>\n",
       "      <th>Z78285_f_at</th>\n",
       "    </tr>\n",
       "  </thead>\n",
       "  <tbody>\n",
       "    <tr>\n",
       "      <th>0</th>\n",
       "      <td>0</td>\n",
       "      <td>-214</td>\n",
       "      <td>-153</td>\n",
       "      <td>-58</td>\n",
       "      <td>88</td>\n",
       "      <td>-295</td>\n",
       "      <td>-558</td>\n",
       "      <td>199</td>\n",
       "      <td>-176</td>\n",
       "      <td>252</td>\n",
       "      <td>...</td>\n",
       "      <td>185</td>\n",
       "      <td>511</td>\n",
       "      <td>-125</td>\n",
       "      <td>389</td>\n",
       "      <td>-37</td>\n",
       "      <td>793</td>\n",
       "      <td>329</td>\n",
       "      <td>36</td>\n",
       "      <td>191</td>\n",
       "      <td>-37</td>\n",
       "    </tr>\n",
       "    <tr>\n",
       "      <th>2</th>\n",
       "      <td>0</td>\n",
       "      <td>-106</td>\n",
       "      <td>-125</td>\n",
       "      <td>-76</td>\n",
       "      <td>168</td>\n",
       "      <td>-230</td>\n",
       "      <td>-284</td>\n",
       "      <td>4</td>\n",
       "      <td>-122</td>\n",
       "      <td>70</td>\n",
       "      <td>...</td>\n",
       "      <td>156</td>\n",
       "      <td>649</td>\n",
       "      <td>57</td>\n",
       "      <td>504</td>\n",
       "      <td>-26</td>\n",
       "      <td>250</td>\n",
       "      <td>314</td>\n",
       "      <td>14</td>\n",
       "      <td>56</td>\n",
       "      <td>-25</td>\n",
       "    </tr>\n",
       "    <tr>\n",
       "      <th>5</th>\n",
       "      <td>0</td>\n",
       "      <td>-67</td>\n",
       "      <td>-93</td>\n",
       "      <td>84</td>\n",
       "      <td>25</td>\n",
       "      <td>-179</td>\n",
       "      <td>-323</td>\n",
       "      <td>-135</td>\n",
       "      <td>-127</td>\n",
       "      <td>-2</td>\n",
       "      <td>...</td>\n",
       "      <td>48</td>\n",
       "      <td>224</td>\n",
       "      <td>60</td>\n",
       "      <td>194</td>\n",
       "      <td>-10</td>\n",
       "      <td>291</td>\n",
       "      <td>41</td>\n",
       "      <td>8</td>\n",
       "      <td>-2</td>\n",
       "      <td>-80</td>\n",
       "    </tr>\n",
       "    <tr>\n",
       "      <th>9</th>\n",
       "      <td>0</td>\n",
       "      <td>-476</td>\n",
       "      <td>-213</td>\n",
       "      <td>-18</td>\n",
       "      <td>301</td>\n",
       "      <td>-403</td>\n",
       "      <td>-394</td>\n",
       "      <td>-42</td>\n",
       "      <td>-144</td>\n",
       "      <td>98</td>\n",
       "      <td>...</td>\n",
       "      <td>241</td>\n",
       "      <td>1214</td>\n",
       "      <td>127</td>\n",
       "      <td>255</td>\n",
       "      <td>50</td>\n",
       "      <td>1701</td>\n",
       "      <td>1108</td>\n",
       "      <td>61</td>\n",
       "      <td>525</td>\n",
       "      <td>-83</td>\n",
       "    </tr>\n",
       "    <tr>\n",
       "      <th>10</th>\n",
       "      <td>0</td>\n",
       "      <td>-81</td>\n",
       "      <td>-150</td>\n",
       "      <td>-119</td>\n",
       "      <td>78</td>\n",
       "      <td>-152</td>\n",
       "      <td>-340</td>\n",
       "      <td>-36</td>\n",
       "      <td>-141</td>\n",
       "      <td>96</td>\n",
       "      <td>...</td>\n",
       "      <td>186</td>\n",
       "      <td>573</td>\n",
       "      <td>-57</td>\n",
       "      <td>694</td>\n",
       "      <td>-19</td>\n",
       "      <td>636</td>\n",
       "      <td>205</td>\n",
       "      <td>17</td>\n",
       "      <td>127</td>\n",
       "      <td>-13</td>\n",
       "    </tr>\n",
       "  </tbody>\n",
       "</table>\n",
       "<p>5 rows × 7130 columns</p>\n",
       "</div>"
      ],
      "text/plain": [
       "    Cancer_type  AFFX-BioB-5_at  AFFX-BioB-M_at  AFFX-BioB-3_at  \\\n",
       "0             0            -214            -153             -58   \n",
       "2             0            -106            -125             -76   \n",
       "5             0             -67             -93              84   \n",
       "9             0            -476            -213             -18   \n",
       "10            0             -81            -150            -119   \n",
       "\n",
       "    AFFX-BioC-5_at  AFFX-BioC-3_at  AFFX-BioDn-5_at  AFFX-BioDn-3_at  \\\n",
       "0               88            -295             -558              199   \n",
       "2              168            -230             -284                4   \n",
       "5               25            -179             -323             -135   \n",
       "9              301            -403             -394              -42   \n",
       "10              78            -152             -340              -36   \n",
       "\n",
       "    AFFX-CreX-5_at  AFFX-CreX-3_at     ...       U48730_at  U58516_at  \\\n",
       "0             -176             252     ...             185        511   \n",
       "2             -122              70     ...             156        649   \n",
       "5             -127              -2     ...              48        224   \n",
       "9             -144              98     ...             241       1214   \n",
       "10            -141              96     ...             186        573   \n",
       "\n",
       "    U73738_at  X06956_at  X16699_at  X83863_at  Z17240_at  L49218_f_at  \\\n",
       "0        -125        389        -37        793        329           36   \n",
       "2          57        504        -26        250        314           14   \n",
       "5          60        194        -10        291         41            8   \n",
       "9         127        255         50       1701       1108           61   \n",
       "10        -57        694        -19        636        205           17   \n",
       "\n",
       "    M71243_f_at  Z78285_f_at  \n",
       "0           191          -37  \n",
       "2            56          -25  \n",
       "5            -2          -80  \n",
       "9           525          -83  \n",
       "10          127          -13  \n",
       "\n",
       "[5 rows x 7130 columns]"
      ]
     },
     "execution_count": 285,
     "metadata": {},
     "output_type": "execute_result"
    }
   ],
   "source": [
    "# your code here\n",
    "data_train.head()"
   ]
  },
  {
   "cell_type": "code",
   "execution_count": 286,
   "metadata": {},
   "outputs": [],
   "source": [
    "def normalize_columns(labels, df, scaler=None):\n",
    "    if scaler is None:\n",
    "        scaler = MinMaxScaler().fit(df.loc[:,labels])\n",
    "        df.loc[:,labels] = scaler.transform(df.loc[:,labels].copy())\n",
    "    else:\n",
    "        df.loc[:,labels] = scaler.transform(df.loc[:,labels].copy())\n",
    "    return df\n",
    "\n",
    "def normalize_dfs(labels, df_train, df_test=None):\n",
    "    scaler = MinMaxScaler().fit(df_train.loc[:,labels]) #fit scaler to training data\n",
    "    df_train = normalize_columns(labels, df_train, scaler) #transform training data\n",
    "    if df_test is None:    \n",
    "        return df_train\n",
    "    else:\n",
    "        df_test = normalize_columns(labels,df_test,scaler) #transform test data by training scaler\n",
    "        return df_train, df_test"
   ]
  },
  {
   "cell_type": "code",
   "execution_count": 287,
   "metadata": {},
   "outputs": [
    {
     "name": "stderr",
     "output_type": "stream",
     "text": [
      "/anaconda3/lib/python3.6/site-packages/pandas/core/indexing.py:543: SettingWithCopyWarning: \n",
      "A value is trying to be set on a copy of a slice from a DataFrame.\n",
      "Try using .loc[row_indexer,col_indexer] = value instead\n",
      "\n",
      "See the caveats in the documentation: http://pandas.pydata.org/pandas-docs/stable/indexing.html#indexing-view-versus-copy\n",
      "  self.obj[item] = s\n"
     ]
    }
   ],
   "source": [
    "std_cols = df.columns.difference(['Cancer_type'])\n",
    "#df = normalize_columns(df,std_cols) #for the sake of having a fully normalized set\n",
    "data_train, data_test = normalize_dfs(std_cols, data_train, data_test)"
   ]
  },
  {
   "cell_type": "code",
   "execution_count": 290,
   "metadata": {},
   "outputs": [
    {
     "data": {
      "text/html": [
       "<div>\n",
       "<style scoped>\n",
       "    .dataframe tbody tr th:only-of-type {\n",
       "        vertical-align: middle;\n",
       "    }\n",
       "\n",
       "    .dataframe tbody tr th {\n",
       "        vertical-align: top;\n",
       "    }\n",
       "\n",
       "    .dataframe thead th {\n",
       "        text-align: right;\n",
       "    }\n",
       "</style>\n",
       "<table border=\"1\" class=\"dataframe\">\n",
       "  <thead>\n",
       "    <tr style=\"text-align: right;\">\n",
       "      <th></th>\n",
       "      <th>Cancer_type</th>\n",
       "      <th>AFFX-BioB-5_at</th>\n",
       "      <th>AFFX-BioB-M_at</th>\n",
       "      <th>AFFX-BioB-3_at</th>\n",
       "      <th>AFFX-BioC-5_at</th>\n",
       "      <th>AFFX-BioC-3_at</th>\n",
       "      <th>AFFX-BioDn-5_at</th>\n",
       "      <th>AFFX-BioDn-3_at</th>\n",
       "      <th>AFFX-CreX-5_at</th>\n",
       "      <th>AFFX-CreX-3_at</th>\n",
       "      <th>...</th>\n",
       "      <th>U48730_at</th>\n",
       "      <th>U58516_at</th>\n",
       "      <th>U73738_at</th>\n",
       "      <th>X06956_at</th>\n",
       "      <th>X16699_at</th>\n",
       "      <th>X83863_at</th>\n",
       "      <th>Z17240_at</th>\n",
       "      <th>L49218_f_at</th>\n",
       "      <th>M71243_f_at</th>\n",
       "      <th>Z78285_f_at</th>\n",
       "    </tr>\n",
       "  </thead>\n",
       "  <tbody>\n",
       "    <tr>\n",
       "      <th>0</th>\n",
       "      <td>0</td>\n",
       "      <td>0.466192</td>\n",
       "      <td>0.739726</td>\n",
       "      <td>0.255814</td>\n",
       "      <td>0.246154</td>\n",
       "      <td>0.433190</td>\n",
       "      <td>0.240418</td>\n",
       "      <td>0.880427</td>\n",
       "      <td>0.625850</td>\n",
       "      <td>0.928074</td>\n",
       "      <td>...</td>\n",
       "      <td>0.385445</td>\n",
       "      <td>0.268542</td>\n",
       "      <td>0.398126</td>\n",
       "      <td>0.161897</td>\n",
       "      <td>0.677778</td>\n",
       "      <td>0.323241</td>\n",
       "      <td>0.322609</td>\n",
       "      <td>0.751381</td>\n",
       "      <td>0.069457</td>\n",
       "      <td>0.381720</td>\n",
       "    </tr>\n",
       "    <tr>\n",
       "      <th>2</th>\n",
       "      <td>0</td>\n",
       "      <td>0.658363</td>\n",
       "      <td>0.794521</td>\n",
       "      <td>0.213953</td>\n",
       "      <td>0.421978</td>\n",
       "      <td>0.573276</td>\n",
       "      <td>0.717770</td>\n",
       "      <td>0.741637</td>\n",
       "      <td>0.748299</td>\n",
       "      <td>0.505800</td>\n",
       "      <td>...</td>\n",
       "      <td>0.307278</td>\n",
       "      <td>0.356777</td>\n",
       "      <td>0.824356</td>\n",
       "      <td>0.206978</td>\n",
       "      <td>0.718519</td>\n",
       "      <td>0.081478</td>\n",
       "      <td>0.309565</td>\n",
       "      <td>0.629834</td>\n",
       "      <td>0.027597</td>\n",
       "      <td>0.446237</td>\n",
       "    </tr>\n",
       "    <tr>\n",
       "      <th>5</th>\n",
       "      <td>0</td>\n",
       "      <td>0.727758</td>\n",
       "      <td>0.857143</td>\n",
       "      <td>0.586047</td>\n",
       "      <td>0.107692</td>\n",
       "      <td>0.683190</td>\n",
       "      <td>0.649826</td>\n",
       "      <td>0.642705</td>\n",
       "      <td>0.736961</td>\n",
       "      <td>0.338747</td>\n",
       "      <td>...</td>\n",
       "      <td>0.016173</td>\n",
       "      <td>0.085038</td>\n",
       "      <td>0.831382</td>\n",
       "      <td>0.085457</td>\n",
       "      <td>0.777778</td>\n",
       "      <td>0.099733</td>\n",
       "      <td>0.072174</td>\n",
       "      <td>0.596685</td>\n",
       "      <td>0.009612</td>\n",
       "      <td>0.150538</td>\n",
       "    </tr>\n",
       "    <tr>\n",
       "      <th>9</th>\n",
       "      <td>0</td>\n",
       "      <td>0.000000</td>\n",
       "      <td>0.622309</td>\n",
       "      <td>0.348837</td>\n",
       "      <td>0.714286</td>\n",
       "      <td>0.200431</td>\n",
       "      <td>0.526132</td>\n",
       "      <td>0.708897</td>\n",
       "      <td>0.698413</td>\n",
       "      <td>0.570766</td>\n",
       "      <td>...</td>\n",
       "      <td>0.536388</td>\n",
       "      <td>0.718031</td>\n",
       "      <td>0.988290</td>\n",
       "      <td>0.109369</td>\n",
       "      <td>1.000000</td>\n",
       "      <td>0.727516</td>\n",
       "      <td>1.000000</td>\n",
       "      <td>0.889503</td>\n",
       "      <td>0.173023</td>\n",
       "      <td>0.134409</td>\n",
       "    </tr>\n",
       "    <tr>\n",
       "      <th>10</th>\n",
       "      <td>0</td>\n",
       "      <td>0.702847</td>\n",
       "      <td>0.745597</td>\n",
       "      <td>0.113953</td>\n",
       "      <td>0.224176</td>\n",
       "      <td>0.741379</td>\n",
       "      <td>0.620209</td>\n",
       "      <td>0.713167</td>\n",
       "      <td>0.705215</td>\n",
       "      <td>0.566125</td>\n",
       "      <td>...</td>\n",
       "      <td>0.388140</td>\n",
       "      <td>0.308184</td>\n",
       "      <td>0.557377</td>\n",
       "      <td>0.281458</td>\n",
       "      <td>0.744444</td>\n",
       "      <td>0.253339</td>\n",
       "      <td>0.214783</td>\n",
       "      <td>0.646409</td>\n",
       "      <td>0.049612</td>\n",
       "      <td>0.510753</td>\n",
       "    </tr>\n",
       "  </tbody>\n",
       "</table>\n",
       "<p>5 rows × 7130 columns</p>\n",
       "</div>"
      ],
      "text/plain": [
       "    Cancer_type  AFFX-BioB-5_at  AFFX-BioB-M_at  AFFX-BioB-3_at  \\\n",
       "0             0        0.466192        0.739726        0.255814   \n",
       "2             0        0.658363        0.794521        0.213953   \n",
       "5             0        0.727758        0.857143        0.586047   \n",
       "9             0        0.000000        0.622309        0.348837   \n",
       "10            0        0.702847        0.745597        0.113953   \n",
       "\n",
       "    AFFX-BioC-5_at  AFFX-BioC-3_at  AFFX-BioDn-5_at  AFFX-BioDn-3_at  \\\n",
       "0         0.246154        0.433190         0.240418         0.880427   \n",
       "2         0.421978        0.573276         0.717770         0.741637   \n",
       "5         0.107692        0.683190         0.649826         0.642705   \n",
       "9         0.714286        0.200431         0.526132         0.708897   \n",
       "10        0.224176        0.741379         0.620209         0.713167   \n",
       "\n",
       "    AFFX-CreX-5_at  AFFX-CreX-3_at     ...       U48730_at  U58516_at  \\\n",
       "0         0.625850        0.928074     ...        0.385445   0.268542   \n",
       "2         0.748299        0.505800     ...        0.307278   0.356777   \n",
       "5         0.736961        0.338747     ...        0.016173   0.085038   \n",
       "9         0.698413        0.570766     ...        0.536388   0.718031   \n",
       "10        0.705215        0.566125     ...        0.388140   0.308184   \n",
       "\n",
       "    U73738_at  X06956_at  X16699_at  X83863_at  Z17240_at  L49218_f_at  \\\n",
       "0    0.398126   0.161897   0.677778   0.323241   0.322609     0.751381   \n",
       "2    0.824356   0.206978   0.718519   0.081478   0.309565     0.629834   \n",
       "5    0.831382   0.085457   0.777778   0.099733   0.072174     0.596685   \n",
       "9    0.988290   0.109369   1.000000   0.727516   1.000000     0.889503   \n",
       "10   0.557377   0.281458   0.744444   0.253339   0.214783     0.646409   \n",
       "\n",
       "    M71243_f_at  Z78285_f_at  \n",
       "0      0.069457     0.381720  \n",
       "2      0.027597     0.446237  \n",
       "5      0.009612     0.150538  \n",
       "9      0.173023     0.134409  \n",
       "10     0.049612     0.510753  \n",
       "\n",
       "[5 rows x 7130 columns]"
      ]
     },
     "execution_count": 290,
     "metadata": {},
     "output_type": "execute_result"
    }
   ],
   "source": [
    "data_train.head()"
   ]
  },
  {
   "cell_type": "markdown",
   "metadata": {},
   "source": [
    "**1.2:** Notice that the resulting training set contains..."
   ]
  },
  {
   "cell_type": "code",
   "execution_count": 291,
   "metadata": {},
   "outputs": [
    {
     "data": {
      "text/plain": [
       "(40, 7130)"
      ]
     },
     "execution_count": 291,
     "metadata": {},
     "output_type": "execute_result"
    }
   ],
   "source": [
    "data_train.shape"
   ]
  },
  {
   "cell_type": "markdown",
   "metadata": {},
   "source": [
    "We have many more predictors than observations (as shown in the `data_train` shape above). Trying to regress data that has significantly more predictors than observations like our data does will lead to ridiculous variance and overfitting"
   ]
  },
  {
   "cell_type": "markdown",
   "metadata": {},
   "source": [
    "**1.3:** Let's explore a few of the genes..."
   ]
  },
  {
   "cell_type": "code",
   "execution_count": 294,
   "metadata": {},
   "outputs": [],
   "source": [
    "def explore_genes(df, gene_list, fig, axes):\n",
    "    #Visually explore genes by cancer type\n",
    "    axes_list=[]\n",
    "    for ax in axes:\n",
    "        for a in ax:\n",
    "            axes_list.append(a)\n",
    "    for ctr, gene in enumerate(gene_list,0):\n",
    "        type_0 = df[df['Cancer_type']==0][gene]\n",
    "        type_1 = df[df['Cancer_type']==1][gene]\n",
    "        axes_list[ctr].hist(type_0, alpha=0.5, density=True) #normed or no???\n",
    "        axes_list[ctr].hist(type_1, alpha=0.5, density=True)\n",
    "        axes_list[ctr].legend([\"ALL\",\"AML\"])\n",
    "        axes_list[ctr].set_title(gene)\n",
    "        axes_list[ctr].set_xlabel(\"Expression Value\")\n",
    "        axes_list[ctr].set_ylabel(\"Frequency\")"
   ]
  },
  {
   "cell_type": "code",
   "execution_count": 295,
   "metadata": {},
   "outputs": [
    {
     "data": {
      "image/png": "[encoded data removed]",
      "text/plain": [
       "<Figure size 1440x1152 with 4 Axes>"
      ]
     },
     "metadata": {},
     "output_type": "display_data"
    }
   ],
   "source": [
    "fig, axes = plt.subplots(2,2,figsize=(20,16))\n",
    "fig.suptitle(\"Normed Histogram of Genes Expression Values for Cancer Types on the Training Data\", fontsize=20)\n",
    "gene_list = ['D29963_at','M23161_at','hum_alu_at','AFFX-PheX-5_at']\n",
    "explore_genes(data_train,gene_list,fig,axes) #run on training data"
   ]
  },
  {
   "cell_type": "markdown",
   "metadata": {},
   "source": [
    "We use a normed histogram because we want to determine whether a gene discriminates between cancer types because we do not care about the sample bias (more people may absolutely have one type of cancer over the other). \n",
    "\n",
    "Gene expressions with overlapping frequencies have low predictive value because both cancer classes share those gene expressions commonly. To analyze which gene expressions are able to discriminate between classes, we focus on the genes that have different peaks on the histograms. Perhaps higher expression values of `D29963_at` leads to a higher chance of AML cancer. For `M23161_at`, a higher expression value may mean that the cancer type is ALL. `hum_alu_at` expression values do dont discrimate between cancer types very well. Lastly, `AFFX-Phex-5_at` is imperfect at discriminating between cancer types, however a low expression value may indicate ALL cancer. "
   ]
  },
  {
   "cell_type": "markdown",
   "metadata": {},
   "source": [
    "**1.4:** Since our data has dimensions that are not easily visualizable, we want to reduce the dimensionality of the data to make it easier to visualize. Using PCA, find the top two principal components for the gene expression data. Generate a scatter plot using these principal components, highlighting the two cancer types in different colors and different markers ('x' vs 'o', for example). How well do the top two principal components discriminate between the two classes? How much of the variance within the predictor set do these two principal components explain?"
   ]
  },
  {
   "cell_type": "code",
   "execution_count": 296,
   "metadata": {},
   "outputs": [],
   "source": [
    "x_train = data_train.drop(columns=['Cancer_type'])\n",
    "x_test = data_test.drop(columns=['Cancer_type'])\n",
    "y_train = data_train['Cancer_type']\n",
    "y_test = data_test['Cancer_type']"
   ]
  },
  {
   "cell_type": "code",
   "execution_count": 297,
   "metadata": {},
   "outputs": [],
   "source": [
    "# reduce dimensions\n",
    "pca_transformer_2 = PCA(2).fit(x_train)\n",
    "x_train_2d = pca_transformer_2.transform(x_train)"
   ]
  },
  {
   "cell_type": "code",
   "execution_count": 298,
   "metadata": {},
   "outputs": [
    {
     "data": {
      "text/plain": [
       "Text(0,0.5,'PCA Dimention 2')"
      ]
     },
     "execution_count": 298,
     "metadata": {},
     "output_type": "execute_result"
    },
    {
     "data": {
      "image/png": "[encoded data removed]",
      "text/plain": [
       "<Figure size 432x288 with 1 Axes>"
      ]
     },
     "metadata": {},
     "output_type": "display_data"
    }
   ],
   "source": [
    "colors = ['r','b']\n",
    "label_text=[\"ALL\",\"AML\"]\n",
    "markers = ['o','x']\n",
    "for cur_cancer in [0,1]:\n",
    "    cur_df = x_train_2d[y_train==cur_cancer]\n",
    "    plt.scatter(cur_df[:,0], cur_df[:,1], c = colors[cur_cancer], \n",
    "                label=label_text[cur_cancer], marker=markers[cur_cancer])\n",
    "\n",
    "plt.title(\"Cancer Types Across Two Principle Components on Training Data\")\n",
    "plt.xlabel(\"PCA Dimension 1\")\n",
    "plt.ylabel(\"PCA Dimention 2\")"
   ]
  },
  {
   "cell_type": "code",
   "execution_count": 299,
   "metadata": {},
   "outputs": [
    {
     "name": "stdout",
     "output_type": "stream",
     "text": [
      "Variance explained by 2 principle components: 0.27\n"
     ]
    }
   ],
   "source": [
    "print(\"Variance explained by 2 principle components: %.2f\"\n",
    "      %pca_transformer_2.explained_variance_ratio_.cumsum()[1])"
   ]
  },
  {
   "cell_type": "markdown",
   "metadata": {},
   "source": [
    "Its definitely not perfect. We roughly see an overlap for PCA Dimension 1 from -15 to 0 and PCA Dimension 2 from -5 to 5. For higher PCA Dimension 1 values we may be able to distinguish between the two cancers, but overall this model is not good enough."
   ]
  },
  {
   "cell_type": "markdown",
   "metadata": {},
   "source": [
    "**1.5**: Plot the cumulative variance explained in the feature set as a function of the number of PCA-components (up to the first 50 components).  Do you feel 2 components is enough, and if not, how many components would you choose to consider?  Justify your choice in 3 or fewer sentences.  Finally, determine how many components are needed to explain at least 90% of the variability in the feature set. "
   ]
  },
  {
   "cell_type": "code",
   "execution_count": 300,
   "metadata": {},
   "outputs": [
    {
     "data": {
      "text/plain": [
       "<matplotlib.lines.Line2D at 0x1c2cee7d30>"
      ]
     },
     "execution_count": 300,
     "metadata": {},
     "output_type": "execute_result"
    },
    {
     "data": {
      "image/png": "[encoded data removed]",
      "text/plain": [
       "<Figure size 432x288 with 1 Axes>"
      ]
     },
     "metadata": {},
     "output_type": "display_data"
    }
   ],
   "source": [
    "# your code here\n",
    "pca_transformer_50 = PCA(50).fit(x_train)\n",
    "x_train_50d = pca_transformer_50.transform(x_train)\n",
    "plt.scatter(range(1,len(pca_transformer_50.explained_variance_ratio_)+1),\n",
    "            pca_transformer_50.explained_variance_ratio_.cumsum())\n",
    "plt.title(\"Variance Explained by PCA\")\n",
    "plt.xlabel(\"PCA Dimension\")\n",
    "plt.ylabel(\"Total Variance Captured\")\n",
    "plt.axhline(y=0.9, color='r', linestyle='-')"
   ]
  },
  {
   "cell_type": "code",
   "execution_count": 301,
   "metadata": {},
   "outputs": [
    {
     "name": "stdout",
     "output_type": "stream",
     "text": [
      "29 principle components explain 0.90 variance\n"
     ]
    }
   ],
   "source": [
    "print(\"29 principle components explain %.2f\"%pca_transformer_50.explained_variance_ratio_.cumsum()[28]+\" variance\")"
   ]
  },
  {
   "cell_type": "markdown",
   "metadata": {},
   "source": [
    "If we use more principle components, we risk overfitting. Since there are not that many observations, we want to limit the amount of principle components we use. 2 principle components seems like too little as it only captures 0.27 variance. It seems desirable to caputure at least 50% of the variance. We can do this with 7 principle components (which captures 0.53 variance). This does not seem like too many (as there are 40 components overall) so 7 principle components seems like the best choice for the sake of this question. More analysis could tell us about the risks of overfitting."
   ]
  },
  {
   "cell_type": "markdown",
   "metadata": {},
   "source": [
    "<div class='exercise'> <b> Question 2 [25 pts]: Linear Regression vs. Logistic Regression </b> </div>\n",
    "\n",
    "In class we discussed how to use both linear regression and logistic regression for classification. For this question, you will work with a single gene predictor, `D29963_at`, to explore these two methods.\n",
    "\n",
    "**2.1** Fit a simple linear regression model to the training set using the single gene predictor `D29963_at` to predict cancer type and plot the histogram of predicted values. We could interpret the scores predicted by the regression model for a patient as an estimate of the probability that the patient has `Cancer_type`=1 (AML). Is there a problem with this interpretation?\n",
    "\n",
    "**2.2** The fitted linear regression model can be converted to a classification model (i.e. a model that predicts one of two binary classes 0 or 1) by classifying patients with predicted score greater than 0.5 into `Cancer_type`=1, and the others into the `Cancer_type`=0. Evaluate the classification accuracy of the obtained classification model on both the training and test sets.\n",
    "\n",
    "**2.3** Next, fit a simple logistic regression model to the training set. How do the training and test classification accuracies of this model compare with the linear regression model? If there are no substantial differences, why do you think this happens? \n",
    "\n",
    "Remember, you need to set the regularization parameter for sklearn's logistic regression function to be a very large value in order to **not** regularize (use 'C=100000').  \n",
    "\n",
    "**2.4** Create a figure with 4 items displayed on the same plot:\n",
    "- the quantitative response from the linear regression model as a function of the gene predictor `D29963_at`.\n",
    "- the predicted probabilities of the logistic regression model as a function of the gene predictor `D29963_at`.  \n",
    "- the true binary response for the test set points for both models in the same plot. \n",
    "- a horizontal line at $y=0.5$. \n",
    "\n",
    "Based on these plots, does one of the models appear better suited for binary classification than the other?  Explain in 3 sentences or fewer. \n",
    "\n",
    "\n"
   ]
  },
  {
   "cell_type": "markdown",
   "metadata": {},
   "source": [
    "#### Answers: \n",
    "\n",
    "**2.1:** Fit a simple linear regression model to the training set"
   ]
  },
  {
   "cell_type": "code",
   "execution_count": 315,
   "metadata": {},
   "outputs": [
    {
     "data": {
      "text/plain": [
       "Text(0,0.5,'Frequency')"
      ]
     },
     "execution_count": 315,
     "metadata": {},
     "output_type": "execute_result"
    },
    {
     "data": {
      "image/png": "[encoded data removed]",
      "text/plain": [
       "<Figure size 432x288 with 1 Axes>"
      ]
     },
     "metadata": {},
     "output_type": "display_data"
    }
   ],
   "source": [
    "x_D2_train_cst = sm.add_constant(x_train['D29963_at'])\n",
    "x_D2_test_cst = sm.add_constant(x_test['D29963_at'])\n",
    "model_OLS = OLS(y_train,x_D2_train_cst).fit()\n",
    "y_train_pred = model_OLS.predict(x_D2_train_cst) #on training data\n",
    "plt.hist(y_train_pred)\n",
    "plt.title(\"Histogram of Predicted Values from the Linear Model on the Training Set\")\n",
    "plt.xlabel(\"Predicted Cancer\")\n",
    "plt.ylabel(\"Frequency\")"
   ]
  },
  {
   "cell_type": "markdown",
   "metadata": {},
   "source": [
    "Normally we can interpret histograms probabilistically. For this logistic model, this is not fully meaningful. By the propabilistic interpretation, we would see that most people have a predicted cancer around 0.4, which does not make sense as we need the histogram to plot probabilities on predicted cancers of strictly 0 or 1, as these are the only possible types of cancers in our model. "
   ]
  },
  {
   "cell_type": "markdown",
   "metadata": {},
   "source": [
    "**2.2:** The fitted linear regression model can be converted to a classification model..."
   ]
  },
  {
   "cell_type": "code",
   "execution_count": 316,
   "metadata": {},
   "outputs": [
    {
     "data": {
      "text/plain": [
       "Text(0.5,1,'Classification Model Histogram of Predicted Cancer')"
      ]
     },
     "execution_count": 316,
     "metadata": {},
     "output_type": "execute_result"
    },
    {
     "data": {
      "image/png": "[encoded data removed]",
      "text/plain": [
       "<Figure size 432x288 with 1 Axes>"
      ]
     },
     "metadata": {},
     "output_type": "display_data"
    }
   ],
   "source": [
    "y_test_pred = model_OLS.predict(x_D2_test_cst)\n",
    "\n",
    "y_train_pred_class = pd.cut(y_train_pred,[-1,0.5,2], labels=[0,1])\n",
    "y_test_pred_class = pd.cut(y_test_pred,[-1,0.5,2], labels=[0,1])\n",
    "plt.hist([y_train_pred_class,y_test_pred_class], stacked=True)\n",
    "plt.legend([\"Training Data\", \"Test Data\"])\n",
    "plt.title(\"Classification Model Histogram of Predicted Cancer\")"
   ]
  },
  {
   "cell_type": "code",
   "execution_count": 319,
   "metadata": {},
   "outputs": [
    {
     "data": {
      "text/plain": [
       "<matplotlib.legend.Legend at 0x1c2c230860>"
      ]
     },
     "execution_count": 319,
     "metadata": {},
     "output_type": "execute_result"
    },
    {
     "data": {
      "image/png": "[encoded data removed]",
      "text/plain": [
       "<Figure size 1440x576 with 2 Axes>"
      ]
     },
     "metadata": {},
     "output_type": "display_data"
    }
   ],
   "source": [
    "fig, axes = plt.subplots(1,2,figsize=(20,8))\n",
    "axes[0].scatter(x_train['D29963_at'],y_train_pred_class, label=\"Predicted Cancer Type\")\n",
    "axes[0].scatter(x_train['D29963_at'],y_train, label=\"Actual Cancer Type\")\n",
    "axes[0].set_xlabel('Expression Level of DD29963_at')\n",
    "axes[0].set_ylabel('Cancer Type')\n",
    "axes[0].set_title(\"Actual vs Predicted on Training Data\")\n",
    "axes[0].legend()\n",
    "\n",
    "axes[1].scatter(x_test['D29963_at'],y_test_pred_class, label=\"Predicted Cancer Type\")\n",
    "axes[1].scatter(x_test['D29963_at'],y_test, label=\"Actual Cancer Type\")\n",
    "axes[1].set_xlabel('Expression Level of DD29963_at')\n",
    "axes[1].set_ylabel('Cancer Type')\n",
    "axes[1].set_title(\"Actual vs Predicted on Test Data\")\n",
    "axes[1].legend()"
   ]
  },
  {
   "cell_type": "code",
   "execution_count": 318,
   "metadata": {},
   "outputs": [
    {
     "name": "stdout",
     "output_type": "stream",
     "text": [
      "The classification accuracy for the linear model on the training set is 0.80\n",
      "The classification accuracy for the linear model on the test set is 0.76\n"
     ]
    }
   ],
   "source": [
    "print(\"The classification accuracy for the linear model on the training set is %.2f\"\n",
    "      %accuracy_score(y_train,y_train_pred_class))\n",
    "print(\"The classification accuracy for the linear model on the test set is %.2f\"\n",
    "      %accuracy_score(y_test,y_test_pred_class))"
   ]
  },
  {
   "cell_type": "markdown",
   "metadata": {},
   "source": [
    "**2.3:** Next, fit a simple logistic regression model to the training set... How do the training and test classification accuracies of this model compare with the linear regression model? If there are no substantial differences, why do you think this happens?"
   ]
  },
  {
   "cell_type": "code",
   "execution_count": 321,
   "metadata": {},
   "outputs": [
    {
     "name": "stdout",
     "output_type": "stream",
     "text": [
      "The classification accuracy on the training set is 0.80\n",
      "The classification accuracy on the test set is 0.76\n"
     ]
    }
   ],
   "source": [
    "model_LR = LogisticRegression(C=100000, solver='newton-cg', max_iter=250).fit(x_D2_train_cst,y_train)\n",
    "\n",
    "y_train_pred_LR = model_LR.predict(x_D2_train_cst)\n",
    "y_test_pred_LR = model_LR.predict(x_D2_test_cst)\n",
    "\n",
    "print(\"The classification accuracy on the training set is %.2f\"%accuracy_score(y_train,y_train_pred_LR))\n",
    "print(\"The classification accuracy on the test set is %.2f\"%accuracy_score(y_test,y_test_pred_LR))"
   ]
  },
  {
   "cell_type": "markdown",
   "metadata": {},
   "source": [
    "They are the same."
   ]
  },
  {
   "cell_type": "markdown",
   "metadata": {},
   "source": [
    "**2.4:** Create a figure with 4 items ..."
   ]
  },
  {
   "cell_type": "code",
   "execution_count": 12,
   "metadata": {
    "collapsed": true
   },
   "outputs": [],
   "source": [
    "# your code here\n"
   ]
  },
  {
   "cell_type": "markdown",
   "metadata": {},
   "source": [
    "*your answer here*\n"
   ]
  },
  {
   "cell_type": "markdown",
   "metadata": {},
   "source": [
    "<div class='exercise'> <b> Question 3 [30pts]: Multiple Logistic Regression </b> </div>\n",
    "\n",
    "\n",
    "**3.1** Next, fit a multiple logistic regression model with all the gene predictors from the data set.  How does the classification accuracy of this model compare with the models fitted in question 2 with a single gene (on both the training and test sets)?  \n",
    "\n",
    "\n",
    "**3.2** How many of the coefficients estimated by this multiple logistic regression in the previous part are significantly different from zero at a *significance level of 5%*? Use the same value of C=100000 as before.\n",
    "\n",
    "**Hint:** To answer this question, use *bootstrapping* with 1000 boostrap samples/iterations.  \n",
    "\n",
    "**3.3** Use the `visualize_prob` function provided below (or any other visualization) to visualize the probabilties predicted by the fitted multiple logistic regression model on both the training and test data sets. The function creates a visualization that places the data points on a vertical line based on the predicted probabilities, with the different cancer classes shown in different colors, and with the 0.5 threshold highlighted using a dotted horizontal line. Is there a difference in the spread of probabilities in the training and test plots? Are there data points for which the predicted probability is close to 0.5? If so, what can you say about these points?\n",
    "\n",
    "**3.4** Open question: Comment on the classification accuracy of the train and test sets. Given the results above how would you assess the generalization capacity of your trained model?  What other tests or approaches would you suggest to better guard against the false sense of security on the accuracy of the model as a whole. \n"
   ]
  },
  {
   "cell_type": "code",
   "execution_count": 144,
   "metadata": {
    "collapsed": true
   },
   "outputs": [],
   "source": [
    "#--------  visualize_prob\n",
    "# A function to visualize the probabilities predicted by a Logistic Regression model\n",
    "# Input: \n",
    "#      model (Logistic regression model)\n",
    "#      x (n x d array of predictors in training data)\n",
    "#      y (n x 1 array of response variable vals in training data: 0 or 1)\n",
    "#      ax (an axis object to generate the plot)\n",
    "\n",
    "def visualize_prob(model, x, y, ax):\n",
    "    # Use the model to predict probabilities for x\n",
    "    y_pred = model.predict_proba(x)\n",
    "    \n",
    "    # Separate the predictions on the label 1 and label 0 points\n",
    "    ypos = y_pred[y==1]\n",
    "    yneg = y_pred[y==0]\n",
    "    \n",
    "    # Count the number of label 1 and label 0 points\n",
    "    npos = ypos.shape[0]\n",
    "    nneg = yneg.shape[0]\n",
    "    \n",
    "    # Plot the probabilities on a vertical line at x = 0, \n",
    "    # with the positive points in blue and negative points in red\n",
    "    pos_handle = ax.plot(np.zeros((npos,1)), ypos[:,1], 'bo', label = 'Cancer Type 1')\n",
    "    neg_handle = ax.plot(np.zeros((nneg,1)), yneg[:,1], 'ro', label = 'Cancer Type 0')\n",
    "\n",
    "    # Line to mark prob 0.5\n",
    "    ax.axhline(y = 0.5, color = 'k', linestyle = '--')\n",
    "    \n",
    "    # Add y-label and legend, do not display x-axis, set y-axis limit\n",
    "    ax.set_ylabel('Probability of AML class')\n",
    "    ax.legend(loc = 'best')\n",
    "    ax.get_xaxis().set_visible(False)\n",
    "    ax.set_ylim([0,1])"
   ]
  },
  {
   "cell_type": "markdown",
   "metadata": {},
   "source": [
    "#### Answers:\n",
    "\n",
    "**3.1:** Next, fit a multiple logistic regression model with all the gene predictors..."
   ]
  },
  {
   "cell_type": "code",
   "execution_count": 145,
   "metadata": {
    "collapsed": true
   },
   "outputs": [],
   "source": [
    "# your code here\n"
   ]
  },
  {
   "cell_type": "markdown",
   "metadata": {},
   "source": [
    "*your answer here*\n"
   ]
  },
  {
   "cell_type": "markdown",
   "metadata": {},
   "source": [
    "**3.2:** How many of the coefficients estimated by this multiple logistic regression..."
   ]
  },
  {
   "cell_type": "code",
   "execution_count": 148,
   "metadata": {
    "collapsed": true
   },
   "outputs": [],
   "source": [
    "# bootstrapping code\n",
    "# your code here\n"
   ]
  },
  {
   "cell_type": "markdown",
   "metadata": {},
   "source": [
    "*your answer here*\n"
   ]
  },
  {
   "cell_type": "markdown",
   "metadata": {},
   "source": [
    "**3.3:** Use the visualize_prob function provided below ..."
   ]
  },
  {
   "cell_type": "code",
   "execution_count": 147,
   "metadata": {
    "collapsed": true
   },
   "outputs": [],
   "source": [
    "\"\"\" Plot classification model \"\"\"\n",
    "\n",
    "# your code here\n"
   ]
  },
  {
   "cell_type": "markdown",
   "metadata": {},
   "source": [
    "*your answer here*\n"
   ]
  },
  {
   "cell_type": "markdown",
   "metadata": {},
   "source": [
    "**3.4:** Open question: Comment on the classification accuracy...\n"
   ]
  },
  {
   "cell_type": "markdown",
   "metadata": {},
   "source": [
    "*your answer here* \n"
   ]
  },
  {
   "cell_type": "markdown",
   "metadata": {},
   "source": [
    "<div class='exercise'><b> Question 4 [20 pts]: PCR: Principal Components Regression </b></div>\n",
    "\n",
    "High dimensional problems can lead to problematic behavior in model estimation (and make prediction on a test set worse), thus we often want to try to reduce the dimensionality of our problems. A reasonable approach to reduce the dimensionality of the data is to use PCA and fit a logistic regression model on the smallest set of principal components that explain at least 90% of the variance in the predictors.\n",
    "\n",
    "**4.1:** Fit two separate Logistic Regression models using principal components as the predictors: (1) with the number of components you selected from problem 1.5 and (2) with the number of components that explain at least 90% of the variability in the feature set. How do the classification accuracy values on both the training and tests sets compare with the models fit in question 3?   \n",
    "\n",
    "**4.2:** Use the code provided in question 3 (or your choice of visualization) to visualize the probabilities predicted by the fitted models in the previous part on both the training and test sets. How does the spread of probabilities in these plots compare to those for the model in question 3.2? If the lower dimensional representation yields comparable predictive power, what advantage does the lower dimensional representation provide?\n"
   ]
  },
  {
   "cell_type": "markdown",
   "metadata": {},
   "source": [
    "#### Answers:\n",
    "\n",
    "**4.1:** Fit two separate Logistic Regression models..."
   ]
  },
  {
   "cell_type": "code",
   "execution_count": 140,
   "metadata": {
    "collapsed": true
   },
   "outputs": [],
   "source": [
    "# your code here\n"
   ]
  },
  {
   "cell_type": "markdown",
   "metadata": {},
   "source": [
    "*your answer here*\n"
   ]
  },
  {
   "cell_type": "markdown",
   "metadata": {},
   "source": [
    "**4.2:** Use the code provided in question 3..."
   ]
  },
  {
   "cell_type": "code",
   "execution_count": 284,
   "metadata": {
    "collapsed": true
   },
   "outputs": [],
   "source": [
    "# your code here\n"
   ]
  },
  {
   "cell_type": "markdown",
   "metadata": {},
   "source": [
    "*your answer here*"
   ]
  }
 ],
 "metadata": {
  "anaconda-cloud": {},
  "kernelspec": {
   "display_name": "Python 3",
   "language": "python",
   "name": "python3"
  },
  "language_info": {
   "codemirror_mode": {
    "name": "ipython",
    "version": 3
   },
   "file_extension": ".py",
   "mimetype": "text/x-python",
   "name": "python",
   "nbconvert_exporter": "python",
   "pygments_lexer": "ipython3",
   "version": "3.6.5"
  }
 },
 "nbformat": 4,
 "nbformat_minor": 2
}
